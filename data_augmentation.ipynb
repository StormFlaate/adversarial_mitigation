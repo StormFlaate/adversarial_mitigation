{
 "cells": [
  {
   "cell_type": "code",
   "execution_count": 14,
   "metadata": {},
   "outputs": [],
   "source": [
    "import os\n",
    "import random\n",
    "import urllib\n",
    "\n",
    "import numpy as np\n",
    "import pandas as pd\n",
    "import matplotlib.pyplot as plt\n",
    "\n",
    "from PIL import Image\n",
    "from torchvision import transforms\n",
    "\n",
    "import torch\n",
    "import torchvision\n",
    "from torchvision import datasets, transforms\n",
    "\n",
    "from customDataset import ISICDataset\n",
    "\n",
    "from data_exploration_helper import dataset_overview"
   ]
  },
  {
   "cell_type": "code",
   "execution_count": 15,
   "metadata": {},
   "outputs": [],
   "source": [
    "#########################################################\n",
    "# ==================== CONSTANTS ========================\n",
    "#########################################################\n",
    "# Training set 2018\n",
    "TRAIN_2018_LABELS: str = \"./data/ISIC2018_Training_GroundTruth.csv\"\n",
    "TRAIN_2018_ROOT_DIR: str = \"./data/ISIC2018_Training_Input\"\n",
    "\n",
    "TEST_2018_LABELS: str = \"./data/ISIC2018_Validation_GroundTruth.csv\"\n",
    "TEST_2018_ROOT_DIR: str = \"./data/ISIC2018_Validation_Input\"\n",
    "\n",
    "IMAGE_FILE_TYPE: str = \"jpg\"\n",
    "TRAIN_NROWS: int = None # SET TO None if you want all samples\n",
    "TEST_NROWS: int = None # SET TO None if you want all samples"
   ]
  },
  {
   "cell_type": "code",
   "execution_count": 16,
   "metadata": {},
   "outputs": [],
   "source": [
    "# Define image pre-processing steps\n",
    "# Define the transforms to apply to the training data\n",
    "augmentation_transform = transforms.Compose([\n",
    "    transforms.RandomHorizontalFlip(),\n",
    "    transforms.RandomVerticalFlip(),\n",
    "    transforms.RandomRotation(degrees=45),\n",
    "])\n",
    "\n",
    "pil_image_transform = transforms.Compose([\n",
    "    transforms.ToPILImage(), # Removes error\n",
    "])"
   ]
  },
  {
   "cell_type": "code",
   "execution_count": 17,
   "metadata": {},
   "outputs": [
    {
     "name": "stdout",
     "output_type": "stream",
     "text": [
      "Loading in datasets...\n"
     ]
    }
   ],
   "source": [
    "# ================= DATASETS ================= #\n",
    "print(\"Loading in datasets...\")\n",
    "# Training set 2018 - custom class\n",
    "train_dataset_2018 = ISICDataset(\n",
    "    csv_file=TRAIN_2018_LABELS, \n",
    "    root_dir=TRAIN_2018_ROOT_DIR, \n",
    "    transform=pil_image_transform,\n",
    "    image_file_type=IMAGE_FILE_TYPE,\n",
    "    nrows=TRAIN_NROWS # defines the number of rows used, utilized this for testing purposes\n",
    "    )\n",
    "\n",
    "# Test set 2018 - custom class\n",
    "test_dataset_2018 = ISICDataset(\n",
    "    csv_file=TEST_2018_LABELS, \n",
    "    root_dir=TEST_2018_ROOT_DIR, \n",
    "    transform=pil_image_transform,\n",
    "    image_file_type=IMAGE_FILE_TYPE,\n",
    "    nrows=TEST_NROWS\n",
    "    )\n"
   ]
  },
  {
   "cell_type": "code",
   "execution_count": 28,
   "metadata": {},
   "outputs": [],
   "source": [
    "\n",
    "def augment_images(transform, csv_file:str, num_augmentations_per_class:int, root_dir:str, image_file_type:str=\"jpg\"):\n",
    "    # Load the annotations from the CSV file\n",
    "    annotations = pd.read_csv(csv_file)\n",
    "    \n",
    "    # Get the names of all the different classes\n",
    "    class_names = annotations.columns[1:]\n",
    "    images = annotations.iloc[:, 0]\n",
    "    \n",
    "    # Create a dictionary to store the images for each class\n",
    "    class_images = {}\n",
    "    for class_name in class_names:\n",
    "        class_images[class_name] = []\n",
    "    \n",
    "    # Iterate over the images and assign them to their corresponding class in the dictionary\n",
    "    for image_path in images:\n",
    "        img_path = f\"{img_path}.{image_path}\"\n",
    "        image_name = os.path.basename(image_path)\n",
    "        image_annotation = annotations[annotations['image'] == image_name]\n",
    "        if len(image_annotation) > 0:\n",
    "            image_class = image_annotation.iloc[0, 1:].idxmax()\n",
    "            class_images[image_class].append(image_path)\n",
    "    \n",
    "    # Create a dictionary to store the augmented images for each class\n",
    "    augmented_images = {}\n",
    "    \n",
    "    # Iterate over the classes\n",
    "    for class_name in class_names:\n",
    "        # Get the images for the class\n",
    "        class_image_paths = class_images[class_name]\n",
    "        \n",
    "        # Create a list to store the augmented images for the class\n",
    "        class_augmented_images = []\n",
    "        \n",
    "        # Iterate over the images for the class and augment them\n",
    "        for image_path in class_image_paths:\n",
    "            image = Image.open(image_path)\n",
    "            for i in range(num_augmentations_per_class):\n",
    "                augmented_image = transform(image)\n",
    "                class_augmented_images.append(augmented_image)\n",
    "        \n",
    "        # Add the augmented images for the class to the dictionary\n",
    "        augmented_images[class_name] = class_augmented_images\n",
    "    \n",
    "    return augmented_images\n"
   ]
  },
  {
   "cell_type": "code",
   "execution_count": 29,
   "metadata": {},
   "outputs": [
    {
     "name": "stdout",
     "output_type": "stream",
     "text": [
      "0        ISIC_0024306\n",
      "1        ISIC_0024307\n",
      "2        ISIC_0024308\n",
      "3        ISIC_0024309\n",
      "4        ISIC_0024310\n",
      "             ...     \n",
      "10010    ISIC_0034316\n",
      "10011    ISIC_0034317\n",
      "10012    ISIC_0034318\n",
      "10013    ISIC_0034319\n",
      "10014    ISIC_0034320\n",
      "Name: image, Length: 10015, dtype: object\n"
     ]
    },
    {
     "ename": "TypeError",
     "evalue": "reduction operation 'argmax' not allowed for this dtype",
     "output_type": "error",
     "traceback": [
      "\u001b[0;31m---------------------------------------------------------------------------\u001b[0m",
      "\u001b[0;31mTypeError\u001b[0m                                 Traceback (most recent call last)",
      "\u001b[0;32m/var/folders/pc/5ytjzw0165n86jc4_pv2802c0000gn/T/ipykernel_94072/433972337.py\u001b[0m in \u001b[0;36m<module>\u001b[0;34m\u001b[0m\n\u001b[0;32m----> 1\u001b[0;31m \u001b[0maugment_images\u001b[0m\u001b[0;34m(\u001b[0m\u001b[0maugmentation_transform\u001b[0m\u001b[0;34m,\u001b[0m \u001b[0mTRAIN_2018_LABELS\u001b[0m\u001b[0;34m,\u001b[0m \u001b[0;36m10\u001b[0m\u001b[0;34m)\u001b[0m\u001b[0;34m\u001b[0m\u001b[0;34m\u001b[0m\u001b[0m\n\u001b[0m",
      "\u001b[0;32m/var/folders/pc/5ytjzw0165n86jc4_pv2802c0000gn/T/ipykernel_94072/3523647534.py\u001b[0m in \u001b[0;36maugment_images\u001b[0;34m(transform, csv_file, num_augmentations_per_class)\u001b[0m\n\u001b[1;32m     18\u001b[0m         \u001b[0mimage_annotation\u001b[0m \u001b[0;34m=\u001b[0m \u001b[0mannotations\u001b[0m\u001b[0;34m[\u001b[0m\u001b[0mannotations\u001b[0m\u001b[0;34m[\u001b[0m\u001b[0;34m'image'\u001b[0m\u001b[0;34m]\u001b[0m \u001b[0;34m==\u001b[0m \u001b[0mimage_name\u001b[0m\u001b[0;34m]\u001b[0m\u001b[0;34m\u001b[0m\u001b[0;34m\u001b[0m\u001b[0m\n\u001b[1;32m     19\u001b[0m         \u001b[0;32mif\u001b[0m \u001b[0mlen\u001b[0m\u001b[0;34m(\u001b[0m\u001b[0mimage_annotation\u001b[0m\u001b[0;34m)\u001b[0m \u001b[0;34m>\u001b[0m \u001b[0;36m0\u001b[0m\u001b[0;34m:\u001b[0m\u001b[0;34m\u001b[0m\u001b[0;34m\u001b[0m\u001b[0m\n\u001b[0;32m---> 20\u001b[0;31m             \u001b[0mimage_class\u001b[0m \u001b[0;34m=\u001b[0m \u001b[0mimage_annotation\u001b[0m\u001b[0;34m.\u001b[0m\u001b[0miloc\u001b[0m\u001b[0;34m[\u001b[0m\u001b[0;36m0\u001b[0m\u001b[0;34m,\u001b[0m \u001b[0;36m1\u001b[0m\u001b[0;34m:\u001b[0m\u001b[0;34m]\u001b[0m\u001b[0;34m.\u001b[0m\u001b[0midxmax\u001b[0m\u001b[0;34m(\u001b[0m\u001b[0;34m)\u001b[0m\u001b[0;34m\u001b[0m\u001b[0;34m\u001b[0m\u001b[0m\n\u001b[0m\u001b[1;32m     21\u001b[0m             \u001b[0mclass_images\u001b[0m\u001b[0;34m[\u001b[0m\u001b[0mimage_class\u001b[0m\u001b[0;34m]\u001b[0m\u001b[0;34m.\u001b[0m\u001b[0mappend\u001b[0m\u001b[0;34m(\u001b[0m\u001b[0mimage_path\u001b[0m\u001b[0;34m)\u001b[0m\u001b[0;34m\u001b[0m\u001b[0;34m\u001b[0m\u001b[0m\n\u001b[1;32m     22\u001b[0m \u001b[0;34m\u001b[0m\u001b[0m\n",
      "\u001b[0;32m~/anaconda3/lib/python3.9/site-packages/pandas/core/series.py\u001b[0m in \u001b[0;36midxmax\u001b[0;34m(self, axis, skipna, *args, **kwargs)\u001b[0m\n\u001b[1;32m   2402\u001b[0m         \u001b[0mnan\u001b[0m\u001b[0;34m\u001b[0m\u001b[0;34m\u001b[0m\u001b[0m\n\u001b[1;32m   2403\u001b[0m         \"\"\"\n\u001b[0;32m-> 2404\u001b[0;31m         \u001b[0mi\u001b[0m \u001b[0;34m=\u001b[0m \u001b[0mself\u001b[0m\u001b[0;34m.\u001b[0m\u001b[0margmax\u001b[0m\u001b[0;34m(\u001b[0m\u001b[0maxis\u001b[0m\u001b[0;34m,\u001b[0m \u001b[0mskipna\u001b[0m\u001b[0;34m,\u001b[0m \u001b[0;34m*\u001b[0m\u001b[0margs\u001b[0m\u001b[0;34m,\u001b[0m \u001b[0;34m**\u001b[0m\u001b[0mkwargs\u001b[0m\u001b[0;34m)\u001b[0m\u001b[0;34m\u001b[0m\u001b[0;34m\u001b[0m\u001b[0m\n\u001b[0m\u001b[1;32m   2405\u001b[0m         \u001b[0;32mif\u001b[0m \u001b[0mi\u001b[0m \u001b[0;34m==\u001b[0m \u001b[0;34m-\u001b[0m\u001b[0;36m1\u001b[0m\u001b[0;34m:\u001b[0m\u001b[0;34m\u001b[0m\u001b[0;34m\u001b[0m\u001b[0m\n\u001b[1;32m   2406\u001b[0m             \u001b[0;32mreturn\u001b[0m \u001b[0mnp\u001b[0m\u001b[0;34m.\u001b[0m\u001b[0mnan\u001b[0m\u001b[0;34m\u001b[0m\u001b[0;34m\u001b[0m\u001b[0m\n",
      "\u001b[0;32m~/anaconda3/lib/python3.9/site-packages/pandas/core/base.py\u001b[0m in \u001b[0;36margmax\u001b[0;34m(self, axis, skipna, *args, **kwargs)\u001b[0m\n\u001b[1;32m    655\u001b[0m             \u001b[0;31m# error: Incompatible return value type (got \"Union[int, ndarray]\", expected\u001b[0m\u001b[0;34m\u001b[0m\u001b[0;34m\u001b[0m\u001b[0m\n\u001b[1;32m    656\u001b[0m             \u001b[0;31m# \"int\")\u001b[0m\u001b[0;34m\u001b[0m\u001b[0;34m\u001b[0m\u001b[0m\n\u001b[0;32m--> 657\u001b[0;31m             return nanops.nanargmax(  # type: ignore[return-value]\n\u001b[0m\u001b[1;32m    658\u001b[0m                 \u001b[0mdelegate\u001b[0m\u001b[0;34m,\u001b[0m \u001b[0mskipna\u001b[0m\u001b[0;34m=\u001b[0m\u001b[0mskipna\u001b[0m\u001b[0;34m\u001b[0m\u001b[0;34m\u001b[0m\u001b[0m\n\u001b[1;32m    659\u001b[0m             )\n",
      "\u001b[0;32m~/anaconda3/lib/python3.9/site-packages/pandas/core/nanops.py\u001b[0m in \u001b[0;36m_f\u001b[0;34m(*args, **kwargs)\u001b[0m\n\u001b[1;32m     86\u001b[0m             \u001b[0;32mif\u001b[0m \u001b[0many\u001b[0m\u001b[0;34m(\u001b[0m\u001b[0mself\u001b[0m\u001b[0;34m.\u001b[0m\u001b[0mcheck\u001b[0m\u001b[0;34m(\u001b[0m\u001b[0mobj\u001b[0m\u001b[0;34m)\u001b[0m \u001b[0;32mfor\u001b[0m \u001b[0mobj\u001b[0m \u001b[0;32min\u001b[0m \u001b[0mobj_iter\u001b[0m\u001b[0;34m)\u001b[0m\u001b[0;34m:\u001b[0m\u001b[0;34m\u001b[0m\u001b[0;34m\u001b[0m\u001b[0m\n\u001b[1;32m     87\u001b[0m                 \u001b[0mf_name\u001b[0m \u001b[0;34m=\u001b[0m \u001b[0mf\u001b[0m\u001b[0;34m.\u001b[0m\u001b[0m__name__\u001b[0m\u001b[0;34m.\u001b[0m\u001b[0mreplace\u001b[0m\u001b[0;34m(\u001b[0m\u001b[0;34m\"nan\"\u001b[0m\u001b[0;34m,\u001b[0m \u001b[0;34m\"\"\u001b[0m\u001b[0;34m)\u001b[0m\u001b[0;34m\u001b[0m\u001b[0;34m\u001b[0m\u001b[0m\n\u001b[0;32m---> 88\u001b[0;31m                 raise TypeError(\n\u001b[0m\u001b[1;32m     89\u001b[0m                     \u001b[0;34mf\"reduction operation '{f_name}' not allowed for this dtype\"\u001b[0m\u001b[0;34m\u001b[0m\u001b[0;34m\u001b[0m\u001b[0m\n\u001b[1;32m     90\u001b[0m                 )\n",
      "\u001b[0;31mTypeError\u001b[0m: reduction operation 'argmax' not allowed for this dtype"
     ]
    }
   ],
   "source": [
    "\n",
    "augment_images(augmentation_transform, TRAIN_2018_LABELS, 10)"
   ]
  },
  {
   "cell_type": "code",
   "execution_count": null,
   "metadata": {},
   "outputs": [],
   "source": []
  }
 ],
 "metadata": {
  "kernelspec": {
   "display_name": "base",
   "language": "python",
   "name": "python3"
  },
  "language_info": {
   "codemirror_mode": {
    "name": "ipython",
    "version": 3
   },
   "file_extension": ".py",
   "mimetype": "text/x-python",
   "name": "python",
   "nbconvert_exporter": "python",
   "pygments_lexer": "ipython3",
   "version": "3.9.13"
  },
  "orig_nbformat": 4,
  "vscode": {
   "interpreter": {
    "hash": "e7de07272557dfb1f98602120625f24475a05dc2b69b5e008854838d8d518036"
   }
  }
 },
 "nbformat": 4,
 "nbformat_minor": 2
}
